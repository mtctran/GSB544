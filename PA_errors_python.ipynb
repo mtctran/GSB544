{
  "cells": [
    {
      "cell_type": "raw",
      "metadata": {
        "id": "Wm7rfPnRrrqm"
      },
      "source": [
        "---\n",
        "title: 'Practice Activity: Basic Syntax'\n",
        "output: html\n",
        "---"
      ]
    },
    {
      "cell_type": "markdown",
      "metadata": {
        "id": "0mbR_4URrrqo"
      },
      "source": [
        "## Overview\n",
        "\n",
        "In this PA, you will will be creating and manipulating basic objects to uncover a top secret message.\n",
        "\n",
        "### Hint 1\n",
        "\n",
        "As you work through this PA, you will encounter some code that does not work as you want it to.  Don't despair!  Errors (when R is unable to run your code) and bugs (when the code doesn't do what you hoped) are a natural part of coding.  Even the best of the best deal with these problems regularly - learning to track down the issue is a skill that you can learn and practice.\n",
        "\n",
        "Google is your friend!  If an error is confusing, copy it into Google and see what other people are saying.  If you don't know how to do something, search for it.\n",
        "\n",
        "### Hint 2\n",
        "\n",
        "Just because there is no error message doesn't mean everything went smoothly.  You should be regularly printing out your objects, to see they contain the information and format that you expect.\n",
        "\n",
        "For example, if you have an object named `my_thing`, you might first want to simply look at the object by typing its name.\n",
        "\n",
        "However, you might also want to make sure it is the right **object type** and/or the right **object structure**.\n"
      ]
    },
    {
      "cell_type": "code",
      "metadata": {
        "id": "D5pSzgxjrrqq"
      },
      "source": [
        "type(my_thing)\n",
        "len(my_thing)"
      ],
      "execution_count": null,
      "outputs": []
    },
    {
      "cell_type": "markdown",
      "metadata": {
        "id": "QpUJsmq0rrqr"
      },
      "source": [
        "## Part One: Setup\n",
        "\n",
        "Each of the following code chunks will cause an error and/or do the desired task incorrectly.  Find the mistake, and correct it to complete the intended action.\n",
        "\n",
        "\n",
        "\n",
        "\n",
        "1. Create lists containing the upper case letters, lower case letters, and some punctuation marks.\n"
      ]
    },
    {
      "cell_type": "code",
      "metadata": {
        "id": "tk5bezBJrrqs",
        "outputId": "1b79b665-62f8-4d70-ecba-9e4a9baa1264",
        "colab": {
          "base_uri": "https://localhost:8080/"
        }
      },
      "source": [
        "lower_case = [\"a\", \"b\", \"c\", \"d\", \"e\", \"f\", \"g\", \"h\", \"i\", \"j\", \"k\", \"l\", \"m\", \"n\", \"o\", \"p\", \"q\", \"r\", \"s\", \"t\", \"u\", \"v\", \"w\", \"x\", \"y\", \"z\"]\n",
        "\n",
        "upper_case = [\"A\", \"B\", \"C\", \"D\", \"E\", \"F\", \"G\", \"H\", \"I\", \"J\", \"K\", \"L\", \"M\", \"N\", \"O\", \"P\", \"Q\", \"R\", \"S\", \"T\", \"U\", \"V\", \"W\", \"X\", \"Y\", \"Z\"]\n",
        "\n",
        "punctuation = [\".\", \",\", \"!\", \"?\", \"'\", '\"', \"(\", \")\", \" \", \"-\", \";\", \":\"]\n",
        "\n",
        "print(len(lower_case))\n",
        "print(len(upper_case))\n",
        "print(len(punctuation))\n"
      ],
      "execution_count": 2,
      "outputs": [
        {
          "output_type": "stream",
          "name": "stdout",
          "text": [
            "26\n",
            "26\n",
            "12\n"
          ]
        }
      ]
    },
    {
      "cell_type": "markdown",
      "metadata": {
        "id": "ZejwK6urrrqs"
      },
      "source": [
        "2. Make one long list containing all the symbols.  Find the length of this list.\n"
      ]
    },
    {
      "cell_type": "code",
      "metadata": {
        "id": "l8ZVLLXWrrqs",
        "colab": {
          "base_uri": "https://localhost:8080/"
        },
        "outputId": "61f51098-81a5-42af-ab51-6283b2a8a67e"
      },
      "source": [
        "all_symbols = [lower_case, upper_case, punctuation]\n",
        "\n",
        "sum(map(len,all_symbols))"
      ],
      "execution_count": 3,
      "outputs": [
        {
          "output_type": "execute_result",
          "data": {
            "text/plain": [
              "64"
            ]
          },
          "metadata": {},
          "execution_count": 3
        }
      ]
    },
    {
      "cell_type": "markdown",
      "metadata": {
        "id": "HvgV76Dbrrqt"
      },
      "source": [
        "3. Repeat the previous steps, but instead of using *list* type objects, use **numpy arrays**.  Don't forget to **import** the numpy library!\n"
      ]
    },
    {
      "cell_type": "code",
      "metadata": {
        "id": "x9YyIMP6rrqt",
        "colab": {
          "base_uri": "https://localhost:8080/"
        },
        "outputId": "a51b2bc6-3184-430b-b82f-19f30e7b8b46"
      },
      "source": [
        "import numpy as np\n",
        "\n",
        "lower_case = np.array([\"a\", \"b\", \"c\", \"d\", \"e\", \"f\", \"g\", \"h\", \"i\", \"j\", \"k\", \"l\", \"m\", \"n\", \"o\", \"p\", \"q\", \"r\", \"s\", \"t\", \"u\", \"v\", \"w\", \"x\", \"y\", \"z\"])\n",
        "\n",
        "upper_case = np.array([\"A\", \"B\", \"C\", \"D\", \"E\", \"F\", \"G\", \"H\", \"I\", \"J\", \"K\", \"L\", \"M\", \"N\", \"O\", \"P\", \"Q\", \"R\", \"S\", \"T\", \"U\", \"V\", \"W\", \"X\", \"Y\", \"Z\"])\n",
        "\n",
        "punctuation = np.array([\".\", \",\", \"!\", \"?\", \"'\", \"\\\"\", \"(\", \")\", \" \", \"-\", \";\", \":\"])\n",
        "\n",
        "## Use np.concatenate to combine into long array\n",
        "all_symbols = np.concatenate([lower_case, upper_case, punctuation])\n",
        "print(all_symbols)"
      ],
      "execution_count": 4,
      "outputs": [
        {
          "output_type": "stream",
          "name": "stdout",
          "text": [
            "['a' 'b' 'c' 'd' 'e' 'f' 'g' 'h' 'i' 'j' 'k' 'l' 'm' 'n' 'o' 'p' 'q' 'r'\n",
            " 's' 't' 'u' 'v' 'w' 'x' 'y' 'z' 'A' 'B' 'C' 'D' 'E' 'F' 'G' 'H' 'I' 'J'\n",
            " 'K' 'L' 'M' 'N' 'O' 'P' 'Q' 'R' 'S' 'T' 'U' 'V' 'W' 'X' 'Y' 'Z' '.' ','\n",
            " '!' '?' \"'\" '\"' '(' ')' ' ' '-' ';' ':']\n"
          ]
        }
      ]
    },
    {
      "cell_type": "markdown",
      "metadata": {
        "id": "rpbAtPlXrrqt"
      },
      "source": [
        "4. Make a **pandas data frame**, with one column called \"Symbol\" containing the `all_symbols` array.\n"
      ]
    },
    {
      "cell_type": "code",
      "metadata": {
        "id": "K103ZvNVrrqu",
        "colab": {
          "base_uri": "https://localhost:8080/",
          "height": 424
        },
        "outputId": "6891191d-8ea8-4be7-c735-3e42de3837cf"
      },
      "source": [
        "import pandas as pd\n",
        "\n",
        "symbols_df = pd.DataFrame(all_symbols)\n",
        "\n",
        "symbols_df.columns = ['Symbol']\n",
        "symbols_df"
      ],
      "execution_count": 46,
      "outputs": [
        {
          "output_type": "execute_result",
          "data": {
            "text/plain": [
              "   Symbol\n",
              "0       a\n",
              "1       b\n",
              "2       c\n",
              "3       d\n",
              "4       e\n",
              "..    ...\n",
              "59      )\n",
              "60       \n",
              "61      -\n",
              "62      ;\n",
              "63      :\n",
              "\n",
              "[64 rows x 1 columns]"
            ],
            "text/html": [
              "\n",
              "  <div id=\"df-24054a14-1deb-40cf-9020-2e29619027eb\" class=\"colab-df-container\">\n",
              "    <div>\n",
              "<style scoped>\n",
              "    .dataframe tbody tr th:only-of-type {\n",
              "        vertical-align: middle;\n",
              "    }\n",
              "\n",
              "    .dataframe tbody tr th {\n",
              "        vertical-align: top;\n",
              "    }\n",
              "\n",
              "    .dataframe thead th {\n",
              "        text-align: right;\n",
              "    }\n",
              "</style>\n",
              "<table border=\"1\" class=\"dataframe\">\n",
              "  <thead>\n",
              "    <tr style=\"text-align: right;\">\n",
              "      <th></th>\n",
              "      <th>Symbol</th>\n",
              "    </tr>\n",
              "  </thead>\n",
              "  <tbody>\n",
              "    <tr>\n",
              "      <th>0</th>\n",
              "      <td>a</td>\n",
              "    </tr>\n",
              "    <tr>\n",
              "      <th>1</th>\n",
              "      <td>b</td>\n",
              "    </tr>\n",
              "    <tr>\n",
              "      <th>2</th>\n",
              "      <td>c</td>\n",
              "    </tr>\n",
              "    <tr>\n",
              "      <th>3</th>\n",
              "      <td>d</td>\n",
              "    </tr>\n",
              "    <tr>\n",
              "      <th>4</th>\n",
              "      <td>e</td>\n",
              "    </tr>\n",
              "    <tr>\n",
              "      <th>...</th>\n",
              "      <td>...</td>\n",
              "    </tr>\n",
              "    <tr>\n",
              "      <th>59</th>\n",
              "      <td>)</td>\n",
              "    </tr>\n",
              "    <tr>\n",
              "      <th>60</th>\n",
              "      <td></td>\n",
              "    </tr>\n",
              "    <tr>\n",
              "      <th>61</th>\n",
              "      <td>-</td>\n",
              "    </tr>\n",
              "    <tr>\n",
              "      <th>62</th>\n",
              "      <td>;</td>\n",
              "    </tr>\n",
              "    <tr>\n",
              "      <th>63</th>\n",
              "      <td>:</td>\n",
              "    </tr>\n",
              "  </tbody>\n",
              "</table>\n",
              "<p>64 rows × 1 columns</p>\n",
              "</div>\n",
              "    <div class=\"colab-df-buttons\">\n",
              "\n",
              "  <div class=\"colab-df-container\">\n",
              "    <button class=\"colab-df-convert\" onclick=\"convertToInteractive('df-24054a14-1deb-40cf-9020-2e29619027eb')\"\n",
              "            title=\"Convert this dataframe to an interactive table.\"\n",
              "            style=\"display:none;\">\n",
              "\n",
              "  <svg xmlns=\"http://www.w3.org/2000/svg\" height=\"24px\" viewBox=\"0 -960 960 960\">\n",
              "    <path d=\"M120-120v-720h720v720H120Zm60-500h600v-160H180v160Zm220 220h160v-160H400v160Zm0 220h160v-160H400v160ZM180-400h160v-160H180v160Zm440 0h160v-160H620v160ZM180-180h160v-160H180v160Zm440 0h160v-160H620v160Z\"/>\n",
              "  </svg>\n",
              "    </button>\n",
              "\n",
              "  <style>\n",
              "    .colab-df-container {\n",
              "      display:flex;\n",
              "      gap: 12px;\n",
              "    }\n",
              "\n",
              "    .colab-df-convert {\n",
              "      background-color: #E8F0FE;\n",
              "      border: none;\n",
              "      border-radius: 50%;\n",
              "      cursor: pointer;\n",
              "      display: none;\n",
              "      fill: #1967D2;\n",
              "      height: 32px;\n",
              "      padding: 0 0 0 0;\n",
              "      width: 32px;\n",
              "    }\n",
              "\n",
              "    .colab-df-convert:hover {\n",
              "      background-color: #E2EBFA;\n",
              "      box-shadow: 0px 1px 2px rgba(60, 64, 67, 0.3), 0px 1px 3px 1px rgba(60, 64, 67, 0.15);\n",
              "      fill: #174EA6;\n",
              "    }\n",
              "\n",
              "    .colab-df-buttons div {\n",
              "      margin-bottom: 4px;\n",
              "    }\n",
              "\n",
              "    [theme=dark] .colab-df-convert {\n",
              "      background-color: #3B4455;\n",
              "      fill: #D2E3FC;\n",
              "    }\n",
              "\n",
              "    [theme=dark] .colab-df-convert:hover {\n",
              "      background-color: #434B5C;\n",
              "      box-shadow: 0px 1px 3px 1px rgba(0, 0, 0, 0.15);\n",
              "      filter: drop-shadow(0px 1px 2px rgba(0, 0, 0, 0.3));\n",
              "      fill: #FFFFFF;\n",
              "    }\n",
              "  </style>\n",
              "\n",
              "    <script>\n",
              "      const buttonEl =\n",
              "        document.querySelector('#df-24054a14-1deb-40cf-9020-2e29619027eb button.colab-df-convert');\n",
              "      buttonEl.style.display =\n",
              "        google.colab.kernel.accessAllowed ? 'block' : 'none';\n",
              "\n",
              "      async function convertToInteractive(key) {\n",
              "        const element = document.querySelector('#df-24054a14-1deb-40cf-9020-2e29619027eb');\n",
              "        const dataTable =\n",
              "          await google.colab.kernel.invokeFunction('convertToInteractive',\n",
              "                                                    [key], {});\n",
              "        if (!dataTable) return;\n",
              "\n",
              "        const docLinkHtml = 'Like what you see? Visit the ' +\n",
              "          '<a target=\"_blank\" href=https://colab.research.google.com/notebooks/data_table.ipynb>data table notebook</a>'\n",
              "          + ' to learn more about interactive tables.';\n",
              "        element.innerHTML = '';\n",
              "        dataTable['output_type'] = 'display_data';\n",
              "        await google.colab.output.renderOutput(dataTable, element);\n",
              "        const docLink = document.createElement('div');\n",
              "        docLink.innerHTML = docLinkHtml;\n",
              "        element.appendChild(docLink);\n",
              "      }\n",
              "    </script>\n",
              "  </div>\n",
              "\n",
              "\n",
              "<div id=\"df-2302b5bd-f340-4495-a440-997dca8215b0\">\n",
              "  <button class=\"colab-df-quickchart\" onclick=\"quickchart('df-2302b5bd-f340-4495-a440-997dca8215b0')\"\n",
              "            title=\"Suggest charts.\"\n",
              "            style=\"display:none;\">\n",
              "\n",
              "<svg xmlns=\"http://www.w3.org/2000/svg\" height=\"24px\"viewBox=\"0 0 24 24\"\n",
              "     width=\"24px\">\n",
              "    <g>\n",
              "        <path d=\"M19 3H5c-1.1 0-2 .9-2 2v14c0 1.1.9 2 2 2h14c1.1 0 2-.9 2-2V5c0-1.1-.9-2-2-2zM9 17H7v-7h2v7zm4 0h-2V7h2v10zm4 0h-2v-4h2v4z\"/>\n",
              "    </g>\n",
              "</svg>\n",
              "  </button>\n",
              "\n",
              "<style>\n",
              "  .colab-df-quickchart {\n",
              "      --bg-color: #E8F0FE;\n",
              "      --fill-color: #1967D2;\n",
              "      --hover-bg-color: #E2EBFA;\n",
              "      --hover-fill-color: #174EA6;\n",
              "      --disabled-fill-color: #AAA;\n",
              "      --disabled-bg-color: #DDD;\n",
              "  }\n",
              "\n",
              "  [theme=dark] .colab-df-quickchart {\n",
              "      --bg-color: #3B4455;\n",
              "      --fill-color: #D2E3FC;\n",
              "      --hover-bg-color: #434B5C;\n",
              "      --hover-fill-color: #FFFFFF;\n",
              "      --disabled-bg-color: #3B4455;\n",
              "      --disabled-fill-color: #666;\n",
              "  }\n",
              "\n",
              "  .colab-df-quickchart {\n",
              "    background-color: var(--bg-color);\n",
              "    border: none;\n",
              "    border-radius: 50%;\n",
              "    cursor: pointer;\n",
              "    display: none;\n",
              "    fill: var(--fill-color);\n",
              "    height: 32px;\n",
              "    padding: 0;\n",
              "    width: 32px;\n",
              "  }\n",
              "\n",
              "  .colab-df-quickchart:hover {\n",
              "    background-color: var(--hover-bg-color);\n",
              "    box-shadow: 0 1px 2px rgba(60, 64, 67, 0.3), 0 1px 3px 1px rgba(60, 64, 67, 0.15);\n",
              "    fill: var(--button-hover-fill-color);\n",
              "  }\n",
              "\n",
              "  .colab-df-quickchart-complete:disabled,\n",
              "  .colab-df-quickchart-complete:disabled:hover {\n",
              "    background-color: var(--disabled-bg-color);\n",
              "    fill: var(--disabled-fill-color);\n",
              "    box-shadow: none;\n",
              "  }\n",
              "\n",
              "  .colab-df-spinner {\n",
              "    border: 2px solid var(--fill-color);\n",
              "    border-color: transparent;\n",
              "    border-bottom-color: var(--fill-color);\n",
              "    animation:\n",
              "      spin 1s steps(1) infinite;\n",
              "  }\n",
              "\n",
              "  @keyframes spin {\n",
              "    0% {\n",
              "      border-color: transparent;\n",
              "      border-bottom-color: var(--fill-color);\n",
              "      border-left-color: var(--fill-color);\n",
              "    }\n",
              "    20% {\n",
              "      border-color: transparent;\n",
              "      border-left-color: var(--fill-color);\n",
              "      border-top-color: var(--fill-color);\n",
              "    }\n",
              "    30% {\n",
              "      border-color: transparent;\n",
              "      border-left-color: var(--fill-color);\n",
              "      border-top-color: var(--fill-color);\n",
              "      border-right-color: var(--fill-color);\n",
              "    }\n",
              "    40% {\n",
              "      border-color: transparent;\n",
              "      border-right-color: var(--fill-color);\n",
              "      border-top-color: var(--fill-color);\n",
              "    }\n",
              "    60% {\n",
              "      border-color: transparent;\n",
              "      border-right-color: var(--fill-color);\n",
              "    }\n",
              "    80% {\n",
              "      border-color: transparent;\n",
              "      border-right-color: var(--fill-color);\n",
              "      border-bottom-color: var(--fill-color);\n",
              "    }\n",
              "    90% {\n",
              "      border-color: transparent;\n",
              "      border-bottom-color: var(--fill-color);\n",
              "    }\n",
              "  }\n",
              "</style>\n",
              "\n",
              "  <script>\n",
              "    async function quickchart(key) {\n",
              "      const quickchartButtonEl =\n",
              "        document.querySelector('#' + key + ' button');\n",
              "      quickchartButtonEl.disabled = true;  // To prevent multiple clicks.\n",
              "      quickchartButtonEl.classList.add('colab-df-spinner');\n",
              "      try {\n",
              "        const charts = await google.colab.kernel.invokeFunction(\n",
              "            'suggestCharts', [key], {});\n",
              "      } catch (error) {\n",
              "        console.error('Error during call to suggestCharts:', error);\n",
              "      }\n",
              "      quickchartButtonEl.classList.remove('colab-df-spinner');\n",
              "      quickchartButtonEl.classList.add('colab-df-quickchart-complete');\n",
              "    }\n",
              "    (() => {\n",
              "      let quickchartButtonEl =\n",
              "        document.querySelector('#df-2302b5bd-f340-4495-a440-997dca8215b0 button');\n",
              "      quickchartButtonEl.style.display =\n",
              "        google.colab.kernel.accessAllowed ? 'block' : 'none';\n",
              "    })();\n",
              "  </script>\n",
              "</div>\n",
              "    </div>\n",
              "  </div>\n"
            ]
          },
          "metadata": {},
          "execution_count": 46
        }
      ]
    },
    {
      "cell_type": "markdown",
      "metadata": {
        "id": "L-m2LLyHrrqu"
      },
      "source": [
        "## Part Two: Decoding the secret message.\n"
      ]
    },
    {
      "cell_type": "code",
      "metadata": {
        "id": "iP7Zj5hPrrqu"
      },
      "source": [
        "from operator import length_hint\n",
        "top_secret = pd.read_csv(\"https://www.dropbox.com/s/k72h1zewk4gtqep/PA_Secret_Code?dl=1\", header=None)\n",
        "top_secret = np.array(top_secret)\n",
        "top_secret = top_secret + 14\n",
        "top_secret = top_secret * 18\n",
        "top_secret = top_secret - 257\n",
        "top_secret = np.exp(top_secret)\n",
        "top_secret = np.square(top_secret)\n",
        "\n",
        "count = 0\n",
        "for i in range (0, 954):\n",
        "  if top_secret[i] < 17:\n",
        "    count += 1\n",
        "\n",
        "count\n",
        "\n",
        "top_secret = top_secret.reshape(5, -1).T\n",
        "evens = np.arange(2, 384, 2)\n",
        "top_secret[:,0] = top_secret[:,0] - evens\n",
        "top_secret[17:24, 2] = top_secret[17:24, 2] - 100\n",
        "top_secret[:,3:5] = top_secret[:,3:5]*2\n",
        "top_secret = top_secret.T.flatten()\n",
        "\n",
        "length_hint(top_secret[500:955] >= 100)\n",
        "\n",
        "# top_secret = np.reshape(top_secret, (-1, 5))\n",
        "# evens = list(np.arange(2,383,2))\n",
        "\n",
        "# evens = np.array(evens)\n",
        "\n",
        "# top_secret[:, 0] -= evens\n",
        "\n",
        "# for i in range (17,24):\n",
        "#   top_secret[i, 2] -=100\n",
        "\n",
        "\n",
        "\n",
        "# for i in range (0, 191):\n",
        "#   top_secret[i, 3] *= 2\n",
        "#   top_secret[i, 4] *= 2\n",
        "\n",
        "# top_secret = top_secret.flatten()\n",
        "\n",
        "# count1 = 0\n",
        "# for i in range (500, len(top_secret)):\n",
        "#   if top_secret[i] < 100:\n",
        "#     count1 += 1\n",
        "\n",
        "# count1\n",
        "\n",
        "top_secret[36:465] = np.sqrt(top_secret[36:465])\n",
        "top_secret = np.rint(top_secret)\n",
        "\n",
        "top_secret[top_secret == 39] = 20\n",
        "top_secret = top_secret - 1\n"
      ],
      "execution_count": 44,
      "outputs": []
    },
    {
      "cell_type": "markdown",
      "metadata": {
        "id": "T3ui38Z9rrqu"
      },
      "source": [
        "### Hint\n",
        "\n",
        "Recall that basic math operations are **vectorized**.  This means you don't have to repeat the process for each item in a list; you can apply the math to the whole thing at once.\n",
        "\n",
        "### Instructions\n",
        "\n",
        "By altering this top secret set of numbers, you will be able to create a message.  Write your own code to complete the steps below.\n",
        "\n",
        "1. Add 14 to every number.\n",
        "2. Multiply every number by 18, then subtract 257.\n",
        "3. Exponentiate every number.  (That is, do e^[number].  You may have to Google how to do this!)\n",
        "4. Square every number.\n",
        "\n",
        "**Checkpoint:** Headquarters has informed you that at this stage of decoding, there should be 352 numbers in the secret message that are below 17.  Write code to check if this is true for your data.\n",
        "\n",
        "\n",
        "5. Turn your one-dimensional array of numbers into a two-dimensional array (matrix) with 5 columns.\n",
        "6. Separately from your top secret numbers, create an array of all the even numbers between 1 and 382. Name it \"evens\". That is, \"evens\" should contain 2, 4, 6, 8 ..., 382.\n",
        "7. Subtract the \"evens\" vector from the first column of your secret message matrix.\n",
        "8. Subtract 100 from all numbers in the 18-24th rows of the 3rd column.\n",
        "9. Multiply all numbers in the 4th and 5th column by 2.\n",
        "10. Turn your matrix back into a one dimensional array.\n",
        "\n",
        "\n",
        "**Checkpoint:** Headquarters has informed you that at this stage of decoding, all numbers in indices 500 and beyond are below 100.  Write code to check if your numbers fulfill this requirement.\n",
        "\n",
        "11. Take the square root of all numbers in indices 37 to 464.\n",
        "12. Round all numbers to the nearest whole number.\n",
        "13. Replace all instances of the number 39 with 20.\n",
        "\n",
        "**Checkpoint:** Headquarters has informed you that your final message should have 344 even numbers.  Write code to check if your numbers fulfill this requirement.\n",
        "\n",
        "## Part 3: The secret message!\n",
        "\n",
        "Run the following to discover the final message!  Google the first line of this message, if you do not recognize it, to see what it is.\n"
      ]
    },
    {
      "cell_type": "code",
      "metadata": {
        "id": "v_bB8VNvrrqu",
        "colab": {
          "base_uri": "https://localhost:8080/",
          "height": 160
        },
        "outputId": "7407a8a3-3ed7-40c3-a44c-d87ff58d731f"
      },
      "source": [
        "''.join(map(str, symbols_df.loc[top_secret]['Symbol']))"
      ],
      "execution_count": 47,
      "outputs": [
        {
          "output_type": "execute_result",
          "data": {
            "text/plain": [
              "'\\'Twas brillig, and the slithy toves h Did gyre and gimble in the wabe: All mimsy were the borogoves,   And the mome raths outgrabe. \"Beware the Jabberwock, my son!   The jaws that bite, the claws that catch! Beware the Jubjub bird, and shun   The frumious Bandersnatch!\" He took his vorpal sword in hand;   Long time the manxome foe he sought- So rested he by the Tumtum tree   And stood awhile in thought. And, as in uffish thought he stood,   The Jabberwock, with eyes of flame, Came whiffling through the tulgey wood,   And burbled as it came! One, two! One, two! And through and through   The vorpal blade went snicker-snack! He left it dead, and with its head   He went galumphing back. \"And hast thou slain the Jabberwock?   Come to my arms, my beamish boy! O frabjous day! Callooh! Callay!\"   He chortled in his joy. \\'Twas brillig, and the slithy toves   Did gyre and gimble in the wabe: All mimsy were the borogoves,   And the mome raths outgrabe.'"
            ],
            "application/vnd.google.colaboratory.intrinsic+json": {
              "type": "string"
            }
          },
          "metadata": {},
          "execution_count": 47
        }
      ]
    },
    {
      "cell_type": "code",
      "source": [],
      "metadata": {
        "id": "KCojW59aciXG"
      },
      "execution_count": null,
      "outputs": []
    }
  ],
  "metadata": {
    "kernelspec": {
      "name": "python3",
      "language": "python",
      "display_name": "Python 3 (ipykernel)"
    },
    "colab": {
      "provenance": []
    }
  },
  "nbformat": 4,
  "nbformat_minor": 0
}