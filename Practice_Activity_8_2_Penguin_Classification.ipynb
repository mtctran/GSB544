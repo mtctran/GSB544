{
  "nbformat": 4,
  "nbformat_minor": 0,
  "metadata": {
    "colab": {
      "provenance": []
    },
    "kernelspec": {
      "name": "python3",
      "display_name": "Python 3"
    },
    "language_info": {
      "name": "python"
    }
  },
  "cells": [
    {
      "cell_type": "markdown",
      "source": [
        "# Palmer Penguins Modeling\n",
        "\n",
        "Import the Palmer Penguins dataset and print out the first few rows.\n",
        "\n",
        "Suppose we want to predict `species` using the other variables in the dataset.\n",
        "\n",
        "**Dummify** all variables that require this."
      ],
      "metadata": {
        "id": "TxbDFsJARAMD"
      }
    },
    {
      "cell_type": "code",
      "execution_count": null,
      "metadata": {
        "id": "QV2uolyOQ65C",
        "colab": {
          "base_uri": "https://localhost:8080/"
        },
        "outputId": "e6418fe4-ab8a-4e22-d5a1-41b8fee6f4bf"
      },
      "outputs": [
        {
          "output_type": "stream",
          "name": "stdout",
          "text": [
            "Collecting palmerpenguins\n",
            "  Downloading palmerpenguins-0.1.4-py3-none-any.whl (17 kB)\n",
            "Requirement already satisfied: pandas in /usr/local/lib/python3.10/dist-packages (from palmerpenguins) (1.5.3)\n",
            "Requirement already satisfied: numpy in /usr/local/lib/python3.10/dist-packages (from palmerpenguins) (1.23.5)\n",
            "Requirement already satisfied: python-dateutil>=2.8.1 in /usr/local/lib/python3.10/dist-packages (from pandas->palmerpenguins) (2.8.2)\n",
            "Requirement already satisfied: pytz>=2020.1 in /usr/local/lib/python3.10/dist-packages (from pandas->palmerpenguins) (2023.3.post1)\n",
            "Requirement already satisfied: six>=1.5 in /usr/local/lib/python3.10/dist-packages (from python-dateutil>=2.8.1->pandas->palmerpenguins) (1.16.0)\n",
            "Installing collected packages: palmerpenguins\n",
            "Successfully installed palmerpenguins-0.1.4\n",
            "Requirement already satisfied: scikit-learn in /usr/local/lib/python3.10/dist-packages (1.2.2)\n",
            "Requirement already satisfied: numpy>=1.17.3 in /usr/local/lib/python3.10/dist-packages (from scikit-learn) (1.23.5)\n",
            "Requirement already satisfied: scipy>=1.3.2 in /usr/local/lib/python3.10/dist-packages (from scikit-learn) (1.11.3)\n",
            "Requirement already satisfied: joblib>=1.1.1 in /usr/local/lib/python3.10/dist-packages (from scikit-learn) (1.3.2)\n",
            "Requirement already satisfied: threadpoolctl>=2.0.0 in /usr/local/lib/python3.10/dist-packages (from scikit-learn) (3.2.0)\n"
          ]
        }
      ],
      "source": [
        "# Code Here\n",
        "!pip install palmerpenguins\n",
        "!pip install scikit-learn"
      ]
    },
    {
      "cell_type": "code",
      "source": [
        "from sklearn.pipeline import Pipeline\n",
        "from sklearn.linear_model import LinearRegression\n",
        "from sklearn.neighbors import KNeighborsClassifier\n",
        "from sklearn.tree import DecisionTreeClassifier\n",
        "from sklearn.linear_model import LogisticRegression\n",
        "from sklearn.neighbors import KNeighborsRegressor\n",
        "from sklearn.tree import DecisionTreeRegressor\n",
        "from sklearn.model_selection import GridSearchCV\n",
        "from sklearn.compose import make_column_selector, ColumnTransformer\n",
        "from sklearn.preprocessing import StandardScaler, OneHotEncoder, PolynomialFeatures\n",
        "from sklearn.metrics import r2_score\n",
        "from sklearn.metrics import mean_squared_error\n",
        "from sklearn.metrics import confusion_matrix\n",
        "from sklearn.metrics import precision_score\n",
        "from sklearn.metrics import accuracy_score\n",
        "from sklearn.metrics import recall_score\n",
        "from sklearn.metrics import classification_report\n",
        "from sklearn.metrics import roc_auc_score\n",
        "from sklearn.model_selection import train_test_split\n",
        "from sklearn.metrics import roc_curve, auc\n",
        "from sklearn.preprocessing import label_binarize\n",
        "import pandas as pd\n",
        "import numpy as np\n",
        "from palmerpenguins import load_penguins\n",
        "from plotnine import *"
      ],
      "metadata": {
        "id": "CEy7yowOX17l"
      },
      "execution_count": null,
      "outputs": []
    },
    {
      "cell_type": "code",
      "source": [
        "penguins = load_penguins()\n",
        "penguins"
      ],
      "metadata": {
        "colab": {
          "base_uri": "https://localhost:8080/",
          "height": 423
        },
        "id": "9fNu0oO-X9CG",
        "outputId": "78d0527a-b612-4ca0-8eef-b11de27d80ad"
      },
      "execution_count": null,
      "outputs": [
        {
          "output_type": "execute_result",
          "data": {
            "text/plain": [
              "       species     island  bill_length_mm  bill_depth_mm  flipper_length_mm  \\\n",
              "0       Adelie  Torgersen            39.1           18.7              181.0   \n",
              "1       Adelie  Torgersen            39.5           17.4              186.0   \n",
              "2       Adelie  Torgersen            40.3           18.0              195.0   \n",
              "3       Adelie  Torgersen             NaN            NaN                NaN   \n",
              "4       Adelie  Torgersen            36.7           19.3              193.0   \n",
              "..         ...        ...             ...            ...                ...   \n",
              "339  Chinstrap      Dream            55.8           19.8              207.0   \n",
              "340  Chinstrap      Dream            43.5           18.1              202.0   \n",
              "341  Chinstrap      Dream            49.6           18.2              193.0   \n",
              "342  Chinstrap      Dream            50.8           19.0              210.0   \n",
              "343  Chinstrap      Dream            50.2           18.7              198.0   \n",
              "\n",
              "     body_mass_g     sex  year  \n",
              "0         3750.0    male  2007  \n",
              "1         3800.0  female  2007  \n",
              "2         3250.0  female  2007  \n",
              "3            NaN     NaN  2007  \n",
              "4         3450.0  female  2007  \n",
              "..           ...     ...   ...  \n",
              "339       4000.0    male  2009  \n",
              "340       3400.0  female  2009  \n",
              "341       3775.0    male  2009  \n",
              "342       4100.0    male  2009  \n",
              "343       3775.0  female  2009  \n",
              "\n",
              "[344 rows x 8 columns]"
            ],
            "text/html": [
              "\n",
              "  <div id=\"df-de4a4409-a9f3-4706-ac70-1c9de7dbc4c2\" class=\"colab-df-container\">\n",
              "    <div>\n",
              "<style scoped>\n",
              "    .dataframe tbody tr th:only-of-type {\n",
              "        vertical-align: middle;\n",
              "    }\n",
              "\n",
              "    .dataframe tbody tr th {\n",
              "        vertical-align: top;\n",
              "    }\n",
              "\n",
              "    .dataframe thead th {\n",
              "        text-align: right;\n",
              "    }\n",
              "</style>\n",
              "<table border=\"1\" class=\"dataframe\">\n",
              "  <thead>\n",
              "    <tr style=\"text-align: right;\">\n",
              "      <th></th>\n",
              "      <th>species</th>\n",
              "      <th>island</th>\n",
              "      <th>bill_length_mm</th>\n",
              "      <th>bill_depth_mm</th>\n",
              "      <th>flipper_length_mm</th>\n",
              "      <th>body_mass_g</th>\n",
              "      <th>sex</th>\n",
              "      <th>year</th>\n",
              "    </tr>\n",
              "  </thead>\n",
              "  <tbody>\n",
              "    <tr>\n",
              "      <th>0</th>\n",
              "      <td>Adelie</td>\n",
              "      <td>Torgersen</td>\n",
              "      <td>39.1</td>\n",
              "      <td>18.7</td>\n",
              "      <td>181.0</td>\n",
              "      <td>3750.0</td>\n",
              "      <td>male</td>\n",
              "      <td>2007</td>\n",
              "    </tr>\n",
              "    <tr>\n",
              "      <th>1</th>\n",
              "      <td>Adelie</td>\n",
              "      <td>Torgersen</td>\n",
              "      <td>39.5</td>\n",
              "      <td>17.4</td>\n",
              "      <td>186.0</td>\n",
              "      <td>3800.0</td>\n",
              "      <td>female</td>\n",
              "      <td>2007</td>\n",
              "    </tr>\n",
              "    <tr>\n",
              "      <th>2</th>\n",
              "      <td>Adelie</td>\n",
              "      <td>Torgersen</td>\n",
              "      <td>40.3</td>\n",
              "      <td>18.0</td>\n",
              "      <td>195.0</td>\n",
              "      <td>3250.0</td>\n",
              "      <td>female</td>\n",
              "      <td>2007</td>\n",
              "    </tr>\n",
              "    <tr>\n",
              "      <th>3</th>\n",
              "      <td>Adelie</td>\n",
              "      <td>Torgersen</td>\n",
              "      <td>NaN</td>\n",
              "      <td>NaN</td>\n",
              "      <td>NaN</td>\n",
              "      <td>NaN</td>\n",
              "      <td>NaN</td>\n",
              "      <td>2007</td>\n",
              "    </tr>\n",
              "    <tr>\n",
              "      <th>4</th>\n",
              "      <td>Adelie</td>\n",
              "      <td>Torgersen</td>\n",
              "      <td>36.7</td>\n",
              "      <td>19.3</td>\n",
              "      <td>193.0</td>\n",
              "      <td>3450.0</td>\n",
              "      <td>female</td>\n",
              "      <td>2007</td>\n",
              "    </tr>\n",
              "    <tr>\n",
              "      <th>...</th>\n",
              "      <td>...</td>\n",
              "      <td>...</td>\n",
              "      <td>...</td>\n",
              "      <td>...</td>\n",
              "      <td>...</td>\n",
              "      <td>...</td>\n",
              "      <td>...</td>\n",
              "      <td>...</td>\n",
              "    </tr>\n",
              "    <tr>\n",
              "      <th>339</th>\n",
              "      <td>Chinstrap</td>\n",
              "      <td>Dream</td>\n",
              "      <td>55.8</td>\n",
              "      <td>19.8</td>\n",
              "      <td>207.0</td>\n",
              "      <td>4000.0</td>\n",
              "      <td>male</td>\n",
              "      <td>2009</td>\n",
              "    </tr>\n",
              "    <tr>\n",
              "      <th>340</th>\n",
              "      <td>Chinstrap</td>\n",
              "      <td>Dream</td>\n",
              "      <td>43.5</td>\n",
              "      <td>18.1</td>\n",
              "      <td>202.0</td>\n",
              "      <td>3400.0</td>\n",
              "      <td>female</td>\n",
              "      <td>2009</td>\n",
              "    </tr>\n",
              "    <tr>\n",
              "      <th>341</th>\n",
              "      <td>Chinstrap</td>\n",
              "      <td>Dream</td>\n",
              "      <td>49.6</td>\n",
              "      <td>18.2</td>\n",
              "      <td>193.0</td>\n",
              "      <td>3775.0</td>\n",
              "      <td>male</td>\n",
              "      <td>2009</td>\n",
              "    </tr>\n",
              "    <tr>\n",
              "      <th>342</th>\n",
              "      <td>Chinstrap</td>\n",
              "      <td>Dream</td>\n",
              "      <td>50.8</td>\n",
              "      <td>19.0</td>\n",
              "      <td>210.0</td>\n",
              "      <td>4100.0</td>\n",
              "      <td>male</td>\n",
              "      <td>2009</td>\n",
              "    </tr>\n",
              "    <tr>\n",
              "      <th>343</th>\n",
              "      <td>Chinstrap</td>\n",
              "      <td>Dream</td>\n",
              "      <td>50.2</td>\n",
              "      <td>18.7</td>\n",
              "      <td>198.0</td>\n",
              "      <td>3775.0</td>\n",
              "      <td>female</td>\n",
              "      <td>2009</td>\n",
              "    </tr>\n",
              "  </tbody>\n",
              "</table>\n",
              "<p>344 rows × 8 columns</p>\n",
              "</div>\n",
              "    <div class=\"colab-df-buttons\">\n",
              "\n",
              "  <div class=\"colab-df-container\">\n",
              "    <button class=\"colab-df-convert\" onclick=\"convertToInteractive('df-de4a4409-a9f3-4706-ac70-1c9de7dbc4c2')\"\n",
              "            title=\"Convert this dataframe to an interactive table.\"\n",
              "            style=\"display:none;\">\n",
              "\n",
              "  <svg xmlns=\"http://www.w3.org/2000/svg\" height=\"24px\" viewBox=\"0 -960 960 960\">\n",
              "    <path d=\"M120-120v-720h720v720H120Zm60-500h600v-160H180v160Zm220 220h160v-160H400v160Zm0 220h160v-160H400v160ZM180-400h160v-160H180v160Zm440 0h160v-160H620v160ZM180-180h160v-160H180v160Zm440 0h160v-160H620v160Z\"/>\n",
              "  </svg>\n",
              "    </button>\n",
              "\n",
              "  <style>\n",
              "    .colab-df-container {\n",
              "      display:flex;\n",
              "      gap: 12px;\n",
              "    }\n",
              "\n",
              "    .colab-df-convert {\n",
              "      background-color: #E8F0FE;\n",
              "      border: none;\n",
              "      border-radius: 50%;\n",
              "      cursor: pointer;\n",
              "      display: none;\n",
              "      fill: #1967D2;\n",
              "      height: 32px;\n",
              "      padding: 0 0 0 0;\n",
              "      width: 32px;\n",
              "    }\n",
              "\n",
              "    .colab-df-convert:hover {\n",
              "      background-color: #E2EBFA;\n",
              "      box-shadow: 0px 1px 2px rgba(60, 64, 67, 0.3), 0px 1px 3px 1px rgba(60, 64, 67, 0.15);\n",
              "      fill: #174EA6;\n",
              "    }\n",
              "\n",
              "    .colab-df-buttons div {\n",
              "      margin-bottom: 4px;\n",
              "    }\n",
              "\n",
              "    [theme=dark] .colab-df-convert {\n",
              "      background-color: #3B4455;\n",
              "      fill: #D2E3FC;\n",
              "    }\n",
              "\n",
              "    [theme=dark] .colab-df-convert:hover {\n",
              "      background-color: #434B5C;\n",
              "      box-shadow: 0px 1px 3px 1px rgba(0, 0, 0, 0.15);\n",
              "      filter: drop-shadow(0px 1px 2px rgba(0, 0, 0, 0.3));\n",
              "      fill: #FFFFFF;\n",
              "    }\n",
              "  </style>\n",
              "\n",
              "    <script>\n",
              "      const buttonEl =\n",
              "        document.querySelector('#df-de4a4409-a9f3-4706-ac70-1c9de7dbc4c2 button.colab-df-convert');\n",
              "      buttonEl.style.display =\n",
              "        google.colab.kernel.accessAllowed ? 'block' : 'none';\n",
              "\n",
              "      async function convertToInteractive(key) {\n",
              "        const element = document.querySelector('#df-de4a4409-a9f3-4706-ac70-1c9de7dbc4c2');\n",
              "        const dataTable =\n",
              "          await google.colab.kernel.invokeFunction('convertToInteractive',\n",
              "                                                    [key], {});\n",
              "        if (!dataTable) return;\n",
              "\n",
              "        const docLinkHtml = 'Like what you see? Visit the ' +\n",
              "          '<a target=\"_blank\" href=https://colab.research.google.com/notebooks/data_table.ipynb>data table notebook</a>'\n",
              "          + ' to learn more about interactive tables.';\n",
              "        element.innerHTML = '';\n",
              "        dataTable['output_type'] = 'display_data';\n",
              "        await google.colab.output.renderOutput(dataTable, element);\n",
              "        const docLink = document.createElement('div');\n",
              "        docLink.innerHTML = docLinkHtml;\n",
              "        element.appendChild(docLink);\n",
              "      }\n",
              "    </script>\n",
              "  </div>\n",
              "\n",
              "\n",
              "<div id=\"df-22b33947-c95c-4d69-b836-10d9714a256a\">\n",
              "  <button class=\"colab-df-quickchart\" onclick=\"quickchart('df-22b33947-c95c-4d69-b836-10d9714a256a')\"\n",
              "            title=\"Suggest charts\"\n",
              "            style=\"display:none;\">\n",
              "\n",
              "<svg xmlns=\"http://www.w3.org/2000/svg\" height=\"24px\"viewBox=\"0 0 24 24\"\n",
              "     width=\"24px\">\n",
              "    <g>\n",
              "        <path d=\"M19 3H5c-1.1 0-2 .9-2 2v14c0 1.1.9 2 2 2h14c1.1 0 2-.9 2-2V5c0-1.1-.9-2-2-2zM9 17H7v-7h2v7zm4 0h-2V7h2v10zm4 0h-2v-4h2v4z\"/>\n",
              "    </g>\n",
              "</svg>\n",
              "  </button>\n",
              "\n",
              "<style>\n",
              "  .colab-df-quickchart {\n",
              "      --bg-color: #E8F0FE;\n",
              "      --fill-color: #1967D2;\n",
              "      --hover-bg-color: #E2EBFA;\n",
              "      --hover-fill-color: #174EA6;\n",
              "      --disabled-fill-color: #AAA;\n",
              "      --disabled-bg-color: #DDD;\n",
              "  }\n",
              "\n",
              "  [theme=dark] .colab-df-quickchart {\n",
              "      --bg-color: #3B4455;\n",
              "      --fill-color: #D2E3FC;\n",
              "      --hover-bg-color: #434B5C;\n",
              "      --hover-fill-color: #FFFFFF;\n",
              "      --disabled-bg-color: #3B4455;\n",
              "      --disabled-fill-color: #666;\n",
              "  }\n",
              "\n",
              "  .colab-df-quickchart {\n",
              "    background-color: var(--bg-color);\n",
              "    border: none;\n",
              "    border-radius: 50%;\n",
              "    cursor: pointer;\n",
              "    display: none;\n",
              "    fill: var(--fill-color);\n",
              "    height: 32px;\n",
              "    padding: 0;\n",
              "    width: 32px;\n",
              "  }\n",
              "\n",
              "  .colab-df-quickchart:hover {\n",
              "    background-color: var(--hover-bg-color);\n",
              "    box-shadow: 0 1px 2px rgba(60, 64, 67, 0.3), 0 1px 3px 1px rgba(60, 64, 67, 0.15);\n",
              "    fill: var(--button-hover-fill-color);\n",
              "  }\n",
              "\n",
              "  .colab-df-quickchart-complete:disabled,\n",
              "  .colab-df-quickchart-complete:disabled:hover {\n",
              "    background-color: var(--disabled-bg-color);\n",
              "    fill: var(--disabled-fill-color);\n",
              "    box-shadow: none;\n",
              "  }\n",
              "\n",
              "  .colab-df-spinner {\n",
              "    border: 2px solid var(--fill-color);\n",
              "    border-color: transparent;\n",
              "    border-bottom-color: var(--fill-color);\n",
              "    animation:\n",
              "      spin 1s steps(1) infinite;\n",
              "  }\n",
              "\n",
              "  @keyframes spin {\n",
              "    0% {\n",
              "      border-color: transparent;\n",
              "      border-bottom-color: var(--fill-color);\n",
              "      border-left-color: var(--fill-color);\n",
              "    }\n",
              "    20% {\n",
              "      border-color: transparent;\n",
              "      border-left-color: var(--fill-color);\n",
              "      border-top-color: var(--fill-color);\n",
              "    }\n",
              "    30% {\n",
              "      border-color: transparent;\n",
              "      border-left-color: var(--fill-color);\n",
              "      border-top-color: var(--fill-color);\n",
              "      border-right-color: var(--fill-color);\n",
              "    }\n",
              "    40% {\n",
              "      border-color: transparent;\n",
              "      border-right-color: var(--fill-color);\n",
              "      border-top-color: var(--fill-color);\n",
              "    }\n",
              "    60% {\n",
              "      border-color: transparent;\n",
              "      border-right-color: var(--fill-color);\n",
              "    }\n",
              "    80% {\n",
              "      border-color: transparent;\n",
              "      border-right-color: var(--fill-color);\n",
              "      border-bottom-color: var(--fill-color);\n",
              "    }\n",
              "    90% {\n",
              "      border-color: transparent;\n",
              "      border-bottom-color: var(--fill-color);\n",
              "    }\n",
              "  }\n",
              "</style>\n",
              "\n",
              "  <script>\n",
              "    async function quickchart(key) {\n",
              "      const quickchartButtonEl =\n",
              "        document.querySelector('#' + key + ' button');\n",
              "      quickchartButtonEl.disabled = true;  // To prevent multiple clicks.\n",
              "      quickchartButtonEl.classList.add('colab-df-spinner');\n",
              "      try {\n",
              "        const charts = await google.colab.kernel.invokeFunction(\n",
              "            'suggestCharts', [key], {});\n",
              "      } catch (error) {\n",
              "        console.error('Error during call to suggestCharts:', error);\n",
              "      }\n",
              "      quickchartButtonEl.classList.remove('colab-df-spinner');\n",
              "      quickchartButtonEl.classList.add('colab-df-quickchart-complete');\n",
              "    }\n",
              "    (() => {\n",
              "      let quickchartButtonEl =\n",
              "        document.querySelector('#df-22b33947-c95c-4d69-b836-10d9714a256a button');\n",
              "      quickchartButtonEl.style.display =\n",
              "        google.colab.kernel.accessAllowed ? 'block' : 'none';\n",
              "    })();\n",
              "  </script>\n",
              "</div>\n",
              "    </div>\n",
              "  </div>\n"
            ]
          },
          "metadata": {},
          "execution_count": 3
        }
      ]
    },
    {
      "cell_type": "code",
      "source": [
        "penguins = penguins.dropna()"
      ],
      "metadata": {
        "id": "8rgwLrPTYAGe"
      },
      "execution_count": null,
      "outputs": []
    },
    {
      "cell_type": "markdown",
      "source": [
        "Let's use the other variables to predict `species`. Prepare your data and fit the following models on the entire dataset:\n",
        "\n",
        "* Two kNN models (for different values of K)\n",
        "* Two decision tree models (for different complexities of trees)\n",
        "\n",
        "Compute the following, for each of your models, on test data. Keep in mind that you may need to stratify your creation of the training and test data.\n",
        "\n",
        "* Confusion matrix\n",
        "* Overall Accuracy\n",
        "* Precision, Recall, AUC, and F1-score for each species\n",
        "\n",
        "Create one ROC plot for the species of your choice."
      ],
      "metadata": {
        "id": "HecNBVAnRHod"
      }
    },
    {
      "cell_type": "code",
      "source": [
        "# Code Here\n",
        "\n",
        "X = penguins.drop([\"species\"], axis = 1)\n",
        "y = penguins[\"species\"]\n",
        "\n",
        "X_train, X_test, y_train, y_test = train_test_split(X, y, test_size=0.25)"
      ],
      "metadata": {
        "id": "U1onRGJQR8T_"
      },
      "execution_count": null,
      "outputs": []
    },
    {
      "cell_type": "markdown",
      "source": [
        "####Processing"
      ],
      "metadata": {
        "id": "Z6oOxVQ9hLC9"
      }
    },
    {
      "cell_type": "code",
      "source": [
        "#Create our preprocessing step\n",
        "\n",
        "ct = ColumnTransformer(\n",
        "  [\n",
        "    (\"dummify\",\n",
        "    OneHotEncoder(sparse_output = False, handle_unknown='ignore'),\n",
        "    make_column_selector(dtype_include=object)),\n",
        "    (\"standardize\",\n",
        "    StandardScaler(),\n",
        "    make_column_selector(dtype_include=np.number))\n",
        "  ],\n",
        "  remainder = \"passthrough\"\n",
        ")"
      ],
      "metadata": {
        "id": "GlatqD4-Z2-X"
      },
      "execution_count": null,
      "outputs": []
    },
    {
      "cell_type": "markdown",
      "source": [
        "####KNN"
      ],
      "metadata": {
        "id": "NiqzNsg1hNSj"
      }
    },
    {
      "cell_type": "code",
      "source": [
        "knn_pipeline_1 = Pipeline(\n",
        "  [(\"preprocessing\", ct),\n",
        "  (\"knn\", KNeighborsClassifier(n_neighbors=5))]\n",
        ")"
      ],
      "metadata": {
        "id": "DhlB8QGObWhg"
      },
      "execution_count": null,
      "outputs": []
    },
    {
      "cell_type": "code",
      "source": [
        "knn_pipeline_fitted_1 = knn_pipeline_1.fit(X_train, y_train)\n",
        "y_preds_1 = knn_pipeline_fitted_1.predict(X_test)"
      ],
      "metadata": {
        "id": "ddXYKBxXcNlE"
      },
      "execution_count": null,
      "outputs": []
    },
    {
      "cell_type": "code",
      "source": [
        "knn_pipeline_2 = Pipeline(\n",
        "  [(\"preprocessing\", ct),\n",
        "  (\"knn\", KNeighborsClassifier(n_neighbors=15))]\n",
        ")"
      ],
      "metadata": {
        "id": "Jtz4i6T-gDqu"
      },
      "execution_count": null,
      "outputs": []
    },
    {
      "cell_type": "code",
      "source": [
        "knn_pipeline_fitted_2 = knn_pipeline_2.fit(X_train, y_train)\n",
        "y_preds_2 = knn_pipeline_fitted_2.predict(X_test)"
      ],
      "metadata": {
        "id": "EcKMlt8MgIjU"
      },
      "execution_count": null,
      "outputs": []
    },
    {
      "cell_type": "markdown",
      "source": [
        "####Confusion Matrix for KNN"
      ],
      "metadata": {
        "id": "wdLmdHJJhzwd"
      }
    },
    {
      "cell_type": "code",
      "source": [
        "knn_confusion_matrix_1 = confusion_matrix(y_test, y_preds_1)\n",
        "knn_confusion_matrix_2 = confusion_matrix(y_test, y_preds_2)"
      ],
      "metadata": {
        "id": "EYfex2KZh25W"
      },
      "execution_count": null,
      "outputs": []
    },
    {
      "cell_type": "code",
      "source": [
        "print(knn_confusion_matrix_1, \"\\n\", \"\\n\", knn_confusion_matrix_2)"
      ],
      "metadata": {
        "colab": {
          "base_uri": "https://localhost:8080/"
        },
        "id": "4S1L1geYihlH",
        "outputId": "629aaa8e-b794-4803-d4f7-8cde3bcdddc3"
      },
      "execution_count": null,
      "outputs": [
        {
          "output_type": "stream",
          "name": "stdout",
          "text": [
            "[[33  0  0]\n",
            " [ 1 28  0]\n",
            " [ 0  0 22]] \n",
            " \n",
            " [[33  0  0]\n",
            " [ 2 27  0]\n",
            " [ 0  0 22]]\n"
          ]
        }
      ]
    },
    {
      "cell_type": "markdown",
      "source": [
        "####Accuracy Score for KNN"
      ],
      "metadata": {
        "id": "WEGi7NsLibsv"
      }
    },
    {
      "cell_type": "code",
      "source": [
        "knn_accuracy_score_1 = accuracy_score(y_test, y_preds_1)\n",
        "knn_accuracy_score_2 = accuracy_score(y_test, y_preds_2)"
      ],
      "metadata": {
        "id": "aVeODJY8idyu"
      },
      "execution_count": null,
      "outputs": []
    },
    {
      "cell_type": "code",
      "source": [
        "print(knn_accuracy_score_1, \"\\n\", \"\\n\", knn_accuracy_score_2)"
      ],
      "metadata": {
        "colab": {
          "base_uri": "https://localhost:8080/"
        },
        "id": "LvliMsfijmsM",
        "outputId": "2528bd49-7f7a-4fd1-8251-232ed02cd0d4"
      },
      "execution_count": null,
      "outputs": [
        {
          "output_type": "stream",
          "name": "stdout",
          "text": [
            "0.9880952380952381 \n",
            " \n",
            " 0.9761904761904762\n"
          ]
        }
      ]
    },
    {
      "cell_type": "markdown",
      "source": [
        "####Precision Score for KNN"
      ],
      "metadata": {
        "id": "RoRnUT0Fjwfw"
      }
    },
    {
      "cell_type": "code",
      "source": [
        "knn_precision_score_1 = precision_score(y_test, y_preds_1, average = None)\n",
        "knn_precision_score_2 = precision_score(y_test, y_preds_2, average = None)"
      ],
      "metadata": {
        "id": "ZCKyZQw_pBpT"
      },
      "execution_count": null,
      "outputs": []
    },
    {
      "cell_type": "code",
      "source": [
        "print(knn_precision_score_1, \"\\n\", \"\\n\", knn_precision_score_2)"
      ],
      "metadata": {
        "colab": {
          "base_uri": "https://localhost:8080/"
        },
        "id": "ltIL8yN6qozw",
        "outputId": "29153048-9d5d-4b09-c7ab-048b8eea7a7f"
      },
      "execution_count": null,
      "outputs": [
        {
          "output_type": "stream",
          "name": "stdout",
          "text": [
            "[0.97058824 1.         1.        ] \n",
            " \n",
            " [0.94285714 1.         1.        ]\n"
          ]
        }
      ]
    },
    {
      "cell_type": "markdown",
      "source": [
        "####Recall KNN"
      ],
      "metadata": {
        "id": "vKtOJOfbD5Sc"
      }
    },
    {
      "cell_type": "code",
      "source": [
        "knn_recall_score_1 = recall_score(y_test, y_preds_1, average = None)\n",
        "knn_recall_score_2 = recall_score(y_test, y_preds_2, average = None)"
      ],
      "metadata": {
        "id": "JgPALmrmq1Vg"
      },
      "execution_count": null,
      "outputs": []
    },
    {
      "cell_type": "code",
      "source": [
        "print(knn_recall_score_1, \"\\n\", \"\\n\", knn_recall_score_2)"
      ],
      "metadata": {
        "colab": {
          "base_uri": "https://localhost:8080/"
        },
        "id": "5qYlU8CKrCQe",
        "outputId": "d32d4442-4182-4456-9d3e-f8162a6dc9a2"
      },
      "execution_count": null,
      "outputs": [
        {
          "output_type": "stream",
          "name": "stdout",
          "text": [
            "[1.         0.96551724 1.        ] \n",
            " \n",
            " [1.         0.93103448 1.        ]\n"
          ]
        }
      ]
    },
    {
      "cell_type": "markdown",
      "source": [
        "####General Report + F1 Score KNN"
      ],
      "metadata": {
        "id": "V6un8g6OrTI4"
      }
    },
    {
      "cell_type": "code",
      "source": [
        "report_knn_1 = classification_report(y_test, y_preds_1)\n",
        "report_knn_1"
      ],
      "metadata": {
        "colab": {
          "base_uri": "https://localhost:8080/",
          "height": 53
        },
        "id": "fKSDZIs2DaEh",
        "outputId": "364673be-568a-4883-df0c-7447a9df12c1"
      },
      "execution_count": null,
      "outputs": [
        {
          "output_type": "execute_result",
          "data": {
            "text/plain": [
              "'              precision    recall  f1-score   support\\n\\n      Adelie       0.97      1.00      0.99        33\\n   Chinstrap       1.00      0.97      0.98        29\\n      Gentoo       1.00      1.00      1.00        22\\n\\n    accuracy                           0.99        84\\n   macro avg       0.99      0.99      0.99        84\\nweighted avg       0.99      0.99      0.99        84\\n'"
            ],
            "application/vnd.google.colaboratory.intrinsic+json": {
              "type": "string"
            }
          },
          "metadata": {},
          "execution_count": 19
        }
      ]
    },
    {
      "cell_type": "code",
      "source": [
        "report_knn_2 = classification_report(y_test, y_preds_2)\n",
        "report_knn_2"
      ],
      "metadata": {
        "colab": {
          "base_uri": "https://localhost:8080/",
          "height": 53
        },
        "id": "jbZpolgoEAGW",
        "outputId": "0f5832bb-da78-4395-9b2d-2037897a31fa"
      },
      "execution_count": null,
      "outputs": [
        {
          "output_type": "execute_result",
          "data": {
            "text/plain": [
              "'              precision    recall  f1-score   support\\n\\n      Adelie       0.94      1.00      0.97        33\\n   Chinstrap       1.00      0.93      0.96        29\\n      Gentoo       1.00      1.00      1.00        22\\n\\n    accuracy                           0.98        84\\n   macro avg       0.98      0.98      0.98        84\\nweighted avg       0.98      0.98      0.98        84\\n'"
            ],
            "application/vnd.google.colaboratory.intrinsic+json": {
              "type": "string"
            }
          },
          "metadata": {},
          "execution_count": 20
        }
      ]
    },
    {
      "cell_type": "markdown",
      "source": [
        "####ROC & AUC KNN"
      ],
      "metadata": {
        "id": "lKiP4VRoEF9g"
      }
    },
    {
      "cell_type": "code",
      "source": [
        "prob_knn_1 = knn_pipeline_fitted_1.predict_proba(X_test)\n",
        "roc_auc_knn_1 = roc_auc_score(y_test, prob_knn_1, multi_class='ovr')\n",
        "roc_auc_knn_1"
      ],
      "metadata": {
        "colab": {
          "base_uri": "https://localhost:8080/"
        },
        "id": "6ep7yoKMEFbJ",
        "outputId": "598b3395-8ac6-45d1-a03a-5e3f75a7c33b"
      },
      "execution_count": null,
      "outputs": [
        {
          "output_type": "execute_result",
          "data": {
            "text/plain": [
              "0.9997964772812643"
            ]
          },
          "metadata": {},
          "execution_count": 21
        }
      ]
    },
    {
      "cell_type": "code",
      "source": [
        "prob_knn_2 = knn_pipeline_fitted_2.predict_proba(X_test)\n",
        "roc_auc_knn_2 = roc_auc_score(y_test, prob_knn_2, multi_class='ovr')\n",
        "roc_auc_knn_2"
      ],
      "metadata": {
        "id": "sVDwptPVQGFk",
        "outputId": "943a26a4-bfc4-44a6-9b47-54b56c26ab90",
        "colab": {
          "base_uri": "https://localhost:8080/"
        }
      },
      "execution_count": null,
      "outputs": [
        {
          "output_type": "execute_result",
          "data": {
            "text/plain": [
              "1.0"
            ]
          },
          "metadata": {},
          "execution_count": 22
        }
      ]
    },
    {
      "cell_type": "markdown",
      "source": [
        "###Decision Tree"
      ],
      "metadata": {
        "id": "vI786pvWhP2O"
      }
    },
    {
      "cell_type": "code",
      "source": [
        "decision_tree_pipeline_1 = Pipeline(\n",
        "  [(\"preprocessing\", ct),\n",
        "  (\"decision_tree_regression\", DecisionTreeClassifier(min_samples_leaf = 3))]\n",
        ")\n",
        "\n",
        "decision_tree_pipeline_fitted_1 = decision_tree_pipeline_1.fit(X_train, y_train)\n",
        "y_preds_3 = decision_tree_pipeline_fitted_1.predict(X_test)"
      ],
      "metadata": {
        "id": "NLKEjAAVhJpN"
      },
      "execution_count": null,
      "outputs": []
    },
    {
      "cell_type": "code",
      "source": [
        "decision_tree_pipeline_2 = Pipeline(\n",
        "  [(\"preprocessing\", ct),\n",
        "  (\"decision_tree_regression\", DecisionTreeClassifier(min_samples_leaf = 6))]\n",
        ")\n",
        "\n",
        "decision_tree_pipeline_fitted_2 = decision_tree_pipeline_2.fit(X_train, y_train)\n",
        "y_preds_4 = decision_tree_pipeline_fitted_2.predict(X_test)"
      ],
      "metadata": {
        "id": "JlbvOMdohpaw"
      },
      "execution_count": null,
      "outputs": []
    },
    {
      "cell_type": "markdown",
      "source": [
        "####Confusion Matrix for Decision Tree"
      ],
      "metadata": {
        "id": "G9bi58VAh3kq"
      }
    },
    {
      "cell_type": "code",
      "source": [
        "decision_tree_confusion_matrix_1 = confusion_matrix(y_test, y_preds_3)\n",
        "decision_tree_confusion_matrix_2 = confusion_matrix(y_test, y_preds_4)"
      ],
      "metadata": {
        "id": "almWLi_yh6Fx"
      },
      "execution_count": null,
      "outputs": []
    },
    {
      "cell_type": "code",
      "source": [
        "print(decision_tree_confusion_matrix_1, \"\\n\", \"\\n\", decision_tree_confusion_matrix_2)"
      ],
      "metadata": {
        "colab": {
          "base_uri": "https://localhost:8080/"
        },
        "id": "Q_UFkznIRbAO",
        "outputId": "c57bb040-3a89-41b8-85a0-7c8e5c0909a5"
      },
      "execution_count": null,
      "outputs": [
        {
          "output_type": "stream",
          "name": "stdout",
          "text": [
            "[[31  0  0]\n",
            " [ 2 16  0]\n",
            " [ 0  0 35]] \n",
            " \n",
            " [[29  2  0]\n",
            " [ 1 17  0]\n",
            " [ 0  0 35]]\n"
          ]
        }
      ]
    },
    {
      "cell_type": "markdown",
      "source": [
        "####Accuracy Score for Decision Tree"
      ],
      "metadata": {
        "id": "y1kiQaD-RiRM"
      }
    },
    {
      "cell_type": "code",
      "source": [
        "decision_tree_accuracy_score_1 = accuracy_score(y_test, y_preds_3)\n",
        "decision_tree_accuracy_score_2 = accuracy_score(y_test, y_preds_4)"
      ],
      "metadata": {
        "id": "Bgq8MixRRhvs"
      },
      "execution_count": null,
      "outputs": []
    },
    {
      "cell_type": "code",
      "source": [
        "print(decision_tree_accuracy_score_1, \"\\n\", \"\\n\", decision_tree_accuracy_score_2)"
      ],
      "metadata": {
        "colab": {
          "base_uri": "https://localhost:8080/"
        },
        "id": "MHjM8vgoRtK3",
        "outputId": "d7a479d5-23ae-46cc-a1e0-a9d9b8bc9c65"
      },
      "execution_count": null,
      "outputs": [
        {
          "output_type": "stream",
          "name": "stdout",
          "text": [
            "0.9761904761904762 \n",
            " \n",
            " 0.9642857142857143\n"
          ]
        }
      ]
    },
    {
      "cell_type": "markdown",
      "source": [
        "####Precision Score for Decision Tree"
      ],
      "metadata": {
        "id": "qfAPqKiAR3VV"
      }
    },
    {
      "cell_type": "code",
      "source": [
        "decision_tree_precision_score_1 = precision_score(y_test, y_preds_3, average = None)\n",
        "decision_tree_precision_score_2 = precision_score(y_test, y_preds_4, average = None)"
      ],
      "metadata": {
        "id": "ZgQ0v9yxR0oD"
      },
      "execution_count": null,
      "outputs": []
    },
    {
      "cell_type": "code",
      "source": [
        "print(decision_tree_precision_score_1, \"\\n\", \"\\n\", decision_tree_precision_score_2)"
      ],
      "metadata": {
        "colab": {
          "base_uri": "https://localhost:8080/"
        },
        "id": "T3oRDvpOR_4s",
        "outputId": "cf5c5830-2740-4da1-bd41-519d78a3ad7e"
      },
      "execution_count": null,
      "outputs": [
        {
          "output_type": "stream",
          "name": "stdout",
          "text": [
            "[0.93939394 1.         1.        ] \n",
            " \n",
            " [0.96666667 0.89473684 1.        ]\n"
          ]
        }
      ]
    },
    {
      "cell_type": "markdown",
      "source": [
        "####Recall Decision Tree"
      ],
      "metadata": {
        "id": "AI0hXGCISGCt"
      }
    },
    {
      "cell_type": "code",
      "source": [
        "decision_tree_recall_score_1 = recall_score(y_test, y_preds_3, average = None)\n",
        "decision_tree_recall_score_2 = recall_score(y_test, y_preds_4, average = None)"
      ],
      "metadata": {
        "id": "qBeqbAmTSK1h"
      },
      "execution_count": null,
      "outputs": []
    },
    {
      "cell_type": "code",
      "source": [
        "print(decision_tree_recall_score_1, \"\\n\", \"\\n\", decision_tree_recall_score_2)"
      ],
      "metadata": {
        "colab": {
          "base_uri": "https://localhost:8080/"
        },
        "id": "0GmGolHiSQaS",
        "outputId": "e9f14bd8-a151-4b75-8f38-782d9d0394cf"
      },
      "execution_count": null,
      "outputs": [
        {
          "output_type": "stream",
          "name": "stdout",
          "text": [
            "[1.         0.88888889 1.        ] \n",
            " \n",
            " [0.93548387 0.94444444 1.        ]\n"
          ]
        }
      ]
    },
    {
      "cell_type": "markdown",
      "source": [
        "####General Report + F1 Score KNN"
      ],
      "metadata": {
        "id": "NCM_j8dYSafu"
      }
    },
    {
      "cell_type": "code",
      "source": [
        "report_decision_tree_1 = classification_report(y_test, y_preds_3)\n",
        "report_decision_tree_1"
      ],
      "metadata": {
        "colab": {
          "base_uri": "https://localhost:8080/",
          "height": 71
        },
        "id": "XljuZ2zLSU13",
        "outputId": "63eabd78-8678-4c07-9af6-365ed7b66565"
      },
      "execution_count": null,
      "outputs": [
        {
          "output_type": "execute_result",
          "data": {
            "text/plain": [
              "'              precision    recall  f1-score   support\\n\\n      Adelie       0.94      1.00      0.97        31\\n   Chinstrap       1.00      0.89      0.94        18\\n      Gentoo       1.00      1.00      1.00        35\\n\\n    accuracy                           0.98        84\\n   macro avg       0.98      0.96      0.97        84\\nweighted avg       0.98      0.98      0.98        84\\n'"
            ],
            "application/vnd.google.colaboratory.intrinsic+json": {
              "type": "string"
            }
          },
          "metadata": {},
          "execution_count": 34
        }
      ]
    },
    {
      "cell_type": "code",
      "source": [
        "report_decision_tree_2 = classification_report(y_test, y_preds_4)\n",
        "report_decision_tree_2"
      ],
      "metadata": {
        "colab": {
          "base_uri": "https://localhost:8080/",
          "height": 71
        },
        "id": "CCQcxeE-Sgp6",
        "outputId": "4eb735cc-9e68-4494-c333-75e487bd8ae1"
      },
      "execution_count": null,
      "outputs": [
        {
          "output_type": "execute_result",
          "data": {
            "text/plain": [
              "'              precision    recall  f1-score   support\\n\\n      Adelie       0.97      0.94      0.95        31\\n   Chinstrap       0.89      0.94      0.92        18\\n      Gentoo       1.00      1.00      1.00        35\\n\\n    accuracy                           0.96        84\\n   macro avg       0.95      0.96      0.96        84\\nweighted avg       0.97      0.96      0.96        84\\n'"
            ],
            "application/vnd.google.colaboratory.intrinsic+json": {
              "type": "string"
            }
          },
          "metadata": {},
          "execution_count": 35
        }
      ]
    },
    {
      "cell_type": "markdown",
      "source": [
        "####ROC & AUC KNN"
      ],
      "metadata": {
        "id": "POR12iTSSnGM"
      }
    },
    {
      "cell_type": "code",
      "source": [
        "prob_decision_tree_1 = decision_tree_pipeline_fitted_1.predict_proba(X_test)\n",
        "roc_auc_decision_tree_1 = roc_auc_score(y_test, prob_decision_tree_1, multi_class='ovr')\n",
        "roc_auc_decision_tree_1"
      ],
      "metadata": {
        "colab": {
          "base_uri": "https://localhost:8080/"
        },
        "id": "YRMfel4BSmm-",
        "outputId": "15ec48f6-ff36-417a-b8a1-c759120bfda5"
      },
      "execution_count": null,
      "outputs": [
        {
          "output_type": "execute_result",
          "data": {
            "text/plain": [
              "0.9991107736593636"
            ]
          },
          "metadata": {},
          "execution_count": 36
        }
      ]
    },
    {
      "cell_type": "code",
      "source": [
        "prob_decision_tree_2 = decision_tree_pipeline_fitted_2.predict_proba(X_test)\n",
        "roc_auc_decision_tree_2 = roc_auc_score(y_test, prob_decision_tree_2, multi_class='ovr')\n",
        "roc_auc_decision_tree_2"
      ],
      "metadata": {
        "id": "_RxHsTEuS12p",
        "outputId": "8cacb30f-3588-4744-da7c-a8107eedff52",
        "colab": {
          "base_uri": "https://localhost:8080/"
        }
      },
      "execution_count": null,
      "outputs": [
        {
          "output_type": "execute_result",
          "data": {
            "text/plain": [
              "0.99717691556807"
            ]
          },
          "metadata": {},
          "execution_count": 37
        }
      ]
    },
    {
      "cell_type": "markdown",
      "source": [
        "####ROC Curve for KNN"
      ],
      "metadata": {
        "id": "ZJ8qiTm98VoY"
      }
    },
    {
      "cell_type": "code",
      "source": [
        "# Convert species labels to numerical values for ROC curve\n",
        "y_bin = label_binarize(y_test, classes=knn_pipeline_fitted_1.classes_)\n",
        "\n",
        "# Get predicted probabilities for each class\n",
        "y_probs_1 = knn_pipeline_fitted_1.predict_proba(X_test)\n",
        "\n",
        "# Calculate the ROC curve for each class\n",
        "fpr, tpr, _ = roc_curve(y_bin.ravel(), y_probs_1.ravel())\n",
        "\n",
        "# Create a DataFrame for the ROC curve\n",
        "roc_df = pd.DataFrame({'FPR': fpr, 'TPR': tpr})\n",
        "\n",
        "# Plot the ROC curve using plotnine\n",
        "roc_plot = (\n",
        "    ggplot(roc_df, aes(x='FPR', y='TPR')) +\n",
        "    geom_line(size=1) +\n",
        "    geom_abline(slope=1, intercept=0, linetype='dashed', color='black') +\n",
        "    labs(title='ROC Curve', x='False Positive Rate', y='True Positive Rate') +\n",
        "    theme_minimal()\n",
        ")\n",
        "\n",
        "print(roc_plot)"
      ],
      "metadata": {
        "colab": {
          "base_uri": "https://localhost:8080/",
          "height": 514
        },
        "id": "5-WpYFVy8XNX",
        "outputId": "c4f17802-431b-4e99-aac7-b9ca57c4ca3d"
      },
      "execution_count": null,
      "outputs": [
        {
          "output_type": "display_data",
          "data": {
            "text/plain": [
              "<Figure size 640x480 with 1 Axes>"
            ],
            "image/png": "[encoded data removed]"
          },
          "metadata": {
            "image/png": {
              "width": 640,
              "height": 480
            },
            "needs_background": "light"
          }
        },
        {
          "output_type": "stream",
          "name": "stdout",
          "text": [
            "\n"
          ]
        }
      ]
    },
    {
      "cell_type": "markdown",
      "source": [
        "####ROC Curve for Decision Tree"
      ],
      "metadata": {
        "id": "vkv5m7we9mvV"
      }
    },
    {
      "cell_type": "code",
      "source": [
        "# Convert species labels to numerical values for ROC curve\n",
        "y_bin = label_binarize(y_test, classes=decision_tree_pipeline_fitted_1.classes_)\n",
        "\n",
        "# Get predicted probabilities for each class\n",
        "y_probs_3 = decision_tree_pipeline_fitted_1.predict_proba(X_test)\n",
        "\n",
        "# Calculate the ROC curve for each class\n",
        "fpr, tpr, _ = roc_curve(y_bin.ravel(), y_probs_3.ravel())\n",
        "\n",
        "# Create a DataFrame for the ROC curve\n",
        "roc_df = pd.DataFrame({'FPR': fpr, 'TPR': tpr})\n",
        "\n",
        "# Plot the ROC curve using plotnine\n",
        "roc_plot = (\n",
        "    ggplot(roc_df, aes(x='FPR', y='TPR')) +\n",
        "    geom_line(size=1) +\n",
        "    geom_abline(slope=1, intercept=0, linetype='dashed', color='black') +\n",
        "    labs(title='ROC Curve', x='False Positive Rate', y='True Positive Rate') +\n",
        "    theme_minimal()\n",
        ")\n",
        "\n",
        "print(roc_plot)"
      ],
      "metadata": {
        "colab": {
          "base_uri": "https://localhost:8080/",
          "height": 514
        },
        "id": "Jff5WMyg9l6D",
        "outputId": "5cc4fb33-9c6d-478d-ac34-a2f2dbd9c2c8"
      },
      "execution_count": null,
      "outputs": [
        {
          "output_type": "display_data",
          "data": {
            "text/plain": [
              "<Figure size 640x480 with 1 Axes>"
            ],
            "image/png": "[encoded data removed]"
          },
          "metadata": {
            "image/png": {
              "width": 640,
              "height": 480
            },
            "needs_background": "light"
          }
        },
        {
          "output_type": "stream",
          "name": "stdout",
          "text": [
            "\n"
          ]
        }
      ]
    }
  ]
}